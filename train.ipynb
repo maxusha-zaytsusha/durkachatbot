{
 "cells": [
  {
   "cell_type": "markdown",
   "metadata": {},
   "source": [
    "В этом файле мы будем обучать три модели: градиентный бустинг, динейную логистическую регрессию и полносвязную нейронную сеть и сравним их. В качестве основной метрики возьменм ROC AUC "
   ]
  },
  {
   "cell_type": "code",
   "execution_count": 15,
   "metadata": {},
   "outputs": [],
   "source": [
    "import numpy as np\n",
    "import catboost as cat"
   ]
  },
  {
   "cell_type": "markdown",
   "metadata": {},
   "source": [
    "Загружаем ембеддинги и таргеты"
   ]
  },
  {
   "cell_type": "code",
   "execution_count": null,
   "metadata": {},
   "outputs": [],
   "source": [
    "import json\n",
    "\n",
    "with open(\"train_embeddings.json\") as f:\n",
    "    x = np.array(json.load(f))\n",
    "\n",
    "with open(\"train_target.json\") as f:\n",
    "    y = np.array(json.load(f))"
   ]
  },
  {
   "cell_type": "code",
   "execution_count": 5,
   "metadata": {},
   "outputs": [],
   "source": [
    "with open(\"test_embeddings.json\") as f:\n",
    "    x_test = np.array(json.load(f))\n",
    "\n",
    "with open(\"test_target.json\") as f:\n",
    "    y_test = np.array(json.load(f))"
   ]
  },
  {
   "cell_type": "markdown",
   "metadata": {},
   "source": [
    "Делаем one-hot содирование таргета"
   ]
  },
  {
   "cell_type": "code",
   "execution_count": 6,
   "metadata": {},
   "outputs": [],
   "source": [
    "indexes = {'Anxiety': 0, 'Bipolar': 1, 'Depression': 2, 'Normal': 3,\n",
    "       'Personality disorder': 4, 'Stress': 5, 'Suicidal': 6}\n",
    "\n",
    "classes = ['Anxiety', 'Bipolar', 'Depression', 'Normal',\n",
    "       'Personality disorder', 'Stress', 'Suicidal']"
   ]
  },
  {
   "cell_type": "code",
   "execution_count": 7,
   "metadata": {},
   "outputs": [],
   "source": [
    "def to_matrix(lables):\n",
    "    res = np.zeros((len(lables), 7))\n",
    "\n",
    "    for i in range(len(res)):\n",
    "        res[i][indexes[lables[i]]] = 1\n",
    "\n",
    "    return res\n",
    "\n",
    "def to_classes(probas):\n",
    "    res = [str()] * len(probas)\n",
    "\n",
    "    for i in range(len(probas)):\n",
    "        j_max = 0\n",
    "        v_max = probas[i][0]\n",
    "        for j in range(1, 7):\n",
    "            if probas[i][j] > v_max:\n",
    "                v_max = probas[i][j]\n",
    "                j_max = j\n",
    "        res[i] = classes[j_max]\n",
    "    \n",
    "    return np.array(res)\n",
    "\n",
    "\n",
    "y_cat = to_matrix(y)\n",
    "y_cat_test = to_matrix(y_test)"
   ]
  },
  {
   "cell_type": "markdown",
   "metadata": {},
   "source": [
    "Функции для оценки качества модели"
   ]
  },
  {
   "cell_type": "code",
   "execution_count": 8,
   "metadata": {},
   "outputs": [],
   "source": [
    "from sklearn.metrics import roc_auc_score, precision_recall_fscore_support\n",
    "from sklearn.metrics import confusion_matrix\n",
    "import matplotlib.pyplot as plt\n",
    "\n",
    "# выводит precision, recall, f1 score и ROC AUC\n",
    "def print_metrics(pred):\n",
    "\n",
    "    roc_auc = roc_auc_score(y_cat_test, pred, labels=classes, average=\"weighted\")\n",
    "    prf1 = precision_recall_fscore_support(y_test, to_classes(pred), labels=classes, average=\"weighted\")\n",
    "    print(\n",
    "        f\"precision = {prf1[0]}\",\n",
    "        f\"recall = {prf1[1]}\",\n",
    "        f\"f1 score = {prf1[2]}\",\n",
    "        f\"ROC AUC = {roc_auc}\",\n",
    "    sep=\"\\n\")\n",
    "\n",
    "# выводит матрицу ошибок\n",
    "def print_confusion_matrix(pred):\n",
    "\n",
    "    mat_con = confusion_matrix(y_test, pred, labels=classes)\n",
    "\n",
    "    fig, ax = plt.subplots(figsize=(7.5, 7.5))\n",
    "    ax.matshow(mat_con, cmap=plt.cm.YlOrRd, alpha=0.5)\n",
    "\n",
    "    for i in range(mat_con.shape[0]):\n",
    "        for j in range(mat_con.shape[1]):\n",
    "            ax.text(x=j, y=i,s=mat_con[i, j], va='center', ha='center', size='xx-large')\n",
    "\n",
    "    plt.xticks(range(0,7), classes, fontsize= 8)\n",
    "    plt.yticks(range(0,7), classes, fontsize= 8)\n",
    "    plt.xlabel(\"Predictions\", fontsize=16)\n",
    "    plt.ylabel(\"Actuals\", fontsize=16)\n",
    "    plt.title(\"Confusion Matrix\", fontsize=15)\n",
    "    plt.show()\n",
    "    plt.clf()"
   ]
  },
  {
   "cell_type": "markdown",
   "metadata": {},
   "source": [
    "Обучаем градиентный бустинг"
   ]
  },
  {
   "cell_type": "code",
   "execution_count": null,
   "metadata": {},
   "outputs": [],
   "source": [
    "grad_boost_model = cat.CatBoostClassifier(5, depth=9)\n",
    "\n",
    "grad_boost_model.fit(x, y,verbose=False, plot=True, eval_set=(x_test, y_test), early_stopping_rounds=20)"
   ]
  },
  {
   "cell_type": "markdown",
   "metadata": {},
   "source": [
    "Обучаем линейную логистическую регрессию"
   ]
  },
  {
   "cell_type": "code",
   "execution_count": null,
   "metadata": {},
   "outputs": [],
   "source": [
    "from sklearn.linear_model import LogisticRegression\n",
    "\n",
    "linear_model = LogisticRegression()\n",
    "linear_model.fit(x, y)"
   ]
  },
  {
   "cell_type": "markdown",
   "metadata": {},
   "source": [
    "Обучаем нейронную сеть"
   ]
  },
  {
   "cell_type": "code",
   "execution_count": null,
   "metadata": {},
   "outputs": [],
   "source": [
    "from keras.layers import Dense, Dropout\n",
    "from keras.models import Sequential\n",
    "# from tensorflow.keras.layers import BatchNormalization\n",
    "\n",
    "n = 180\n",
    "\n",
    "neuro_network_model = Sequential([\n",
    "    Dense(384, input_shape=(384,), activation=\"relu\"),\n",
    "    Dropout(0.35),\n",
    "    Dense(n, input_shape=(384,), activation=\"relu\"),\n",
    "    Dropout(0.35),\n",
    "    Dense(7, input_shape=(n,), activation='softmax')\n",
    "])\n",
    "\n",
    "neuro_network_model.compile(loss=\"categorical_crossentropy\", optimizer=\"adam\", metrics=[\"f1_score\"])\n",
    "\n",
    "neuro_network_model.fit(x, y_cat, batch_size=50, epochs=5)"
   ]
  },
  {
   "cell_type": "markdown",
   "metadata": {},
   "source": [
    "Смотрим на метрики моделей"
   ]
  },
  {
   "cell_type": "code",
   "execution_count": null,
   "metadata": {},
   "outputs": [],
   "source": [
    "print(\"Gradient boosting:\")\n",
    "print_metrics(grad_boost_model.predict_proba(x_test))\n",
    "print_confusion_matrix(grad_boost_model.predict(x_test))\n",
    "\n",
    "print(\"\\nLinear log regress:\")\n",
    "print_metrics(linear_model.predict_proba(x_test))\n",
    "print_confusion_matrix(linear_model.predict(x_test))\n",
    "\n",
    "print(\"\\nNeuro network:\")\n",
    "print_metrics(neuro_network_model.predict(x_test, verbose=0))\n",
    "print_confusion_matrix(to_classes(neuro_network_model.predict(x_test, verbose=0)))"
   ]
  }
 ],
 "metadata": {
  "kernelspec": {
   "display_name": "base",
   "language": "python",
   "name": "python3"
  },
  "language_info": {
   "codemirror_mode": {
    "name": "ipython",
    "version": 3
   },
   "file_extension": ".py",
   "mimetype": "text/x-python",
   "name": "python",
   "nbconvert_exporter": "python",
   "pygments_lexer": "ipython3",
   "version": "3.12.3"
  }
 },
 "nbformat": 4,
 "nbformat_minor": 2
}
